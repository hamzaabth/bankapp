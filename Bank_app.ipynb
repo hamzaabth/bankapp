{
 "cells": [
  {
   "cell_type": "markdown",
   "id": "13f95b8b",
   "metadata": {},
   "source": [
    "# Bank App "
   ]
  },
  {
   "cell_type": "code",
   "execution_count": 19,
   "id": "09093e81",
   "metadata": {},
   "outputs": [],
   "source": [
    "class Account:\n",
    "    def __init__(self, account_id, balance=0):\n",
    "        self.account_id = account_id\n",
    "        self.balance = balance\n",
    "        \n",
    "    def print_account_info(self):\n",
    "        print(\"Account Id:\", self.account_id)\n",
    "        print(\"Balance:\", self.balance, \"MAD\")\n",
    "        \n",
    "    def deposit(self, amount):\n",
    "        if amount > 0:\n",
    "            self.balance += amount\n",
    "            print(\"Deposited : \", amount,\"MAD\")\n",
    "            print(\"New balance: \", self.balance, \"MAD\")\n",
    "        else:\n",
    "            print(\"Invalid deposit amount.\")\n",
    "        \n",
    "    def withdraw(self, amount): \n",
    "        if amount <= self.balance:\n",
    "            self.balance -= amount\n",
    "            print(\"Withdrew : \", amount, \"MAD\")\n",
    "            print(\"New balance: \", self.balance, \"MAD\")\n",
    "        else:\n",
    "            print(\"Insufficient balance. Withdrawal failed.\")\n"
   ]
  },
  {
   "cell_type": "code",
   "execution_count": 35,
   "id": "b34b3230",
   "metadata": {},
   "outputs": [],
   "source": [
    "class Customer:\n",
    "    def __init__(self, name, email):\n",
    "        self.name = name\n",
    "        self.email = email\n",
    "\n",
    "    def print_customer_info(self):\n",
    "        print(\"Customer Name:\", self.name)\n",
    "        print(\"Email:\", self.email)"
   ]
  },
  {
   "cell_type": "code",
   "execution_count": 36,
   "id": "641c654b",
   "metadata": {},
   "outputs": [],
   "source": [
    "class BankApp(Account, Customer):\n",
    "    def __init__(self, name, email, account_id, balance=0):\n",
    "        Account.__init__(self, account_id, balance)\n",
    "        Customer.__init__(self, name, email)\n",
    "\n",
    "    def print_full_info(self):\n",
    "        print(\"=== Account Information ===\")\n",
    "        self.print_customer_info()\n",
    "        self.print_account_info()\n",
    "        "
   ]
  },
  {
   "cell_type": "code",
   "execution_count": 37,
   "id": "9deba522",
   "metadata": {},
   "outputs": [
    {
     "name": "stdout",
     "output_type": "stream",
     "text": [
      "=== Account Information ===\n",
      "Customer Name: customer 1\n",
      "Email: customer@gmail.com\n",
      "Account Id: A123\n",
      "Balance: 1000 MAD\n"
     ]
    }
   ],
   "source": [
    "# Example usage\n",
    "bank_user = BankApp(\"customer 1\",\"customer1@gmail.com\", \"A123\", 1000)\n",
    "bank_user.print_full_info()"
   ]
  },
  {
   "cell_type": "code",
   "execution_count": 38,
   "id": "785fa74a",
   "metadata": {},
   "outputs": [
    {
     "name": "stdout",
     "output_type": "stream",
     "text": [
      "Deposited :  500 MAD\n",
      "New balance:  1500 MAD\n",
      "=== Account Information ===\n",
      "Customer Name: customer 1\n",
      "Email: customer@gmail.com\n",
      "Account Id: A123\n",
      "Balance: 1500 MAD\n"
     ]
    }
   ],
   "source": [
    "# Deposit \n",
    "bank_user.deposit(500)\n",
    "bank_user.print_full_info()"
   ]
  },
  {
   "cell_type": "code",
   "execution_count": 39,
   "id": "49c6d36b",
   "metadata": {},
   "outputs": [
    {
     "name": "stdout",
     "output_type": "stream",
     "text": [
      "Withdrew :  200 MAD\n",
      "New balance:  1300 MAD\n",
      "=== Account Information ===\n",
      "Customer Name: customer 1\n",
      "Email: customer@gmail.com\n",
      "Account Id: A123\n",
      "Balance: 1300 MAD\n"
     ]
    }
   ],
   "source": [
    "# Withdraw\n",
    "bank_user.withdraw(200)\n",
    "bank_user.print_full_info()"
   ]
  },
  {
   "cell_type": "code",
   "execution_count": null,
   "id": "684c7ad0",
   "metadata": {},
   "outputs": [],
   "source": []
  }
 ],
 "metadata": {
  "kernelspec": {
   "display_name": "Python 3 (ipykernel)",
   "language": "python",
   "name": "python3"
  },
  "language_info": {
   "codemirror_mode": {
    "name": "ipython",
    "version": 3
   },
   "file_extension": ".py",
   "mimetype": "text/x-python",
   "name": "python",
   "nbconvert_exporter": "python",
   "pygments_lexer": "ipython3",
   "version": "3.11.5"
  }
 },
 "nbformat": 4,
 "nbformat_minor": 5
}
